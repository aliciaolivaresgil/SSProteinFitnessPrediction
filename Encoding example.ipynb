{
 "cells": [
  {
   "cell_type": "markdown",
   "id": "7d17e2c5",
   "metadata": {},
   "source": [
    "# Encoding example\n",
    "Examples for DCA encoding, UniRep encoding, eUniRep encoding and PAM250 encoding. \n",
    "\n",
    "Actual complete encoding process for all datasets is in `encoding.py` script. "
   ]
  },
  {
   "cell_type": "code",
   "execution_count": 1,
   "id": "847ac27f",
   "metadata": {},
   "outputs": [],
   "source": [
    "from scripts.utils import read_variants, read_a2m, generate_unambiguous_homologs\n",
    "from Bio import SeqIO\n",
    "import numpy as np\n",
    "\n",
    "wt_fasta = 'raw_data/bg_strsq/bg_strsq.fasta'\n",
    "sequences_file = 'raw_data/bg_strsq/BG_STRSQ_Abate2015_encoded.csv'\n",
    "homologs_file = 'raw_data/bg_strsq/bg_strsq_jhmmer.a2m'\n",
    "params_file = 'raw_data/bg_strsq/bg_strsq_plmc.params'\n",
    "wt = np.array(SeqIO.read(open(wt_fasta), 'fasta'))"
   ]
  },
  {
   "cell_type": "code",
   "execution_count": 2,
   "id": "b9845132",
   "metadata": {},
   "outputs": [
    {
     "name": "stdout",
     "output_type": "stream",
     "text": [
      "sequences shape:  (2598, 478)\n",
      "y shape:  (2598,)\n"
     ]
    }
   ],
   "source": [
    "#read sequences \n",
    "sequences, y, variants = read_variants(sequences_file, wt_fasta, start_pos=2)\n",
    "\n",
    "print('sequences shape: ', sequences.shape)\n",
    "print('y shape: ', y.shape)"
   ]
  },
  {
   "cell_type": "code",
   "execution_count": 3,
   "id": "743837a2",
   "metadata": {},
   "outputs": [
    {
     "name": "stdout",
     "output_type": "stream",
     "text": [
      "homologs shape:  (124487, 478)\n"
     ]
    }
   ],
   "source": [
    "#read homologs\n",
    "homologs = read_a2m(homologs_file)\n",
    "\n",
    "print('homologs shape: ', homologs.shape)"
   ]
  },
  {
   "cell_type": "code",
   "execution_count": 4,
   "id": "5b26e3ff",
   "metadata": {},
   "outputs": [
    {
     "name": "stdout",
     "output_type": "stream",
     "text": [
      "unambiguous homologs shape:  (1000, 478)\n"
     ]
    }
   ],
   "source": [
    "#convert homologs with ambiguous symbols like X to only amino sequences\n",
    "unambiguous_homologs = generate_unambiguous_homologs(homologs[:1000,:], n_processes=10, mode='random')\n",
    "print('unambiguous homologs shape: ', unambiguous_homologs.shape)"
   ]
  },
  {
   "cell_type": "markdown",
   "id": "70bc7570",
   "metadata": {},
   "source": [
    "### DCA encoding"
   ]
  },
  {
   "cell_type": "code",
   "execution_count": 5,
   "id": "05c34bec",
   "metadata": {},
   "outputs": [],
   "source": [
    "from scripts.encoding import SequencesDCAEncoder\n",
    "\n",
    "wt = np.array(SeqIO.read(open(wt_fasta), 'fasta'))\n",
    "start_pos = 2 #depends on the dataset \n",
    "\n",
    "encoder = SequencesDCAEncoder(wt, start_pos, params_file)"
   ]
  },
  {
   "cell_type": "code",
   "execution_count": 8,
   "id": "cc1ff040",
   "metadata": {},
   "outputs": [
    {
     "name": "stdout",
     "output_type": "stream",
     "text": [
      "Labeled sequences shape:  (2598, 435)\n"
     ]
    }
   ],
   "source": [
    "Xl, y, indexes = encoder.encode_variants(sequences, y, variants)\n",
    "\n",
    "#Notice that the encoder eliminates some instances. \n",
    "print('Labeled sequences shape: ', Xl.shape)"
   ]
  },
  {
   "cell_type": "code",
   "execution_count": 9,
   "id": "ce792c7e",
   "metadata": {},
   "outputs": [
    {
     "name": "stdout",
     "output_type": "stream",
     "text": [
      "y shape:  (2598,)\n"
     ]
    }
   ],
   "source": [
    "#The number of instances after encoding can be smaller. \n",
    "print('y shape: ', y.shape)"
   ]
  },
  {
   "cell_type": "code",
   "execution_count": 10,
   "id": "a1663d73",
   "metadata": {},
   "outputs": [
    {
     "name": "stdout",
     "output_type": "stream",
     "text": [
      "Unlabeled sequences shape:  (1000, 435)\n"
     ]
    }
   ],
   "source": [
    "Xu = encoder.encode_homologs(unambiguous_homologs)\n",
    "\n",
    "print('Unlabeled sequences shape: ', Xu.shape)"
   ]
  },
  {
   "cell_type": "markdown",
   "id": "4e6b9386",
   "metadata": {},
   "source": [
    "### UniRep encoding"
   ]
  },
  {
   "cell_type": "code",
   "execution_count": 11,
   "id": "5c2d7b1d",
   "metadata": {},
   "outputs": [],
   "source": [
    "from scripts.encoding import UniRepEncoder\n",
    "\n",
    "wt = np.array(SeqIO.read(open(wt_fasta), 'fasta'))\n",
    "start_pos = 2 #depends on the dataset \n",
    "\n",
    "encoder = UniRepEncoder(wt, start_pos)"
   ]
  },
  {
   "cell_type": "code",
   "execution_count": 12,
   "id": "4247db57",
   "metadata": {},
   "outputs": [
    {
     "name": "stdout",
     "output_type": "stream",
     "text": [
      "Labeled sequences shape:  (2598, 1900)\n"
     ]
    }
   ],
   "source": [
    "Xl = encoder.encode(sequences)\n",
    "\n",
    "print('Labeled sequences shape: ', Xl.shape)\n",
    "\n",
    "#This method can not encode the homologous sequences as they contain gaps. "
   ]
  },
  {
   "cell_type": "markdown",
   "id": "254664c0",
   "metadata": {},
   "source": [
    "### eUniRep encoding"
   ]
  },
  {
   "cell_type": "code",
   "execution_count": null,
   "id": "f9b3b181",
   "metadata": {},
   "outputs": [],
   "source": [
    "from scripts.encoding import EUniRepEncoder\n",
    "\n",
    "wt = np.array(SeqIO.read(open(wt_fasta), 'fasta'))\n",
    "start_pos = 2 #depends on the dataset\n",
    "\n",
    "encoder = EUniRepEncoder(wt, start_pos, homologs) #uses the homologous sequences to fine-tune. \n",
    "\n",
    "#The execution of this cell is very long. "
   ]
  },
  {
   "cell_type": "code",
   "execution_count": null,
   "id": "1efe590a",
   "metadata": {},
   "outputs": [],
   "source": [
    "Xl = encoder.encode(sequences)\n",
    "\n",
    "print('Labeled sequences shape: ', Xl.shape)\n",
    "\n",
    "#This method can not encode the homologous sequences as they contain gaps. "
   ]
  },
  {
   "cell_type": "markdown",
   "id": "b5f7749f",
   "metadata": {},
   "source": [
    "### PAM250 encoding"
   ]
  },
  {
   "cell_type": "code",
   "execution_count": 15,
   "id": "4b992d32",
   "metadata": {},
   "outputs": [],
   "source": [
    "from scripts.encoding import PAM250Encoder\n",
    "\n",
    "wt = np.array(SeqIO.read(open(wt_fasta), 'fasta'))\n",
    "start_pos = 2 #depends on the dataset\n",
    "\n",
    "encoder = PAM250Encoder(wt, start_pos)"
   ]
  },
  {
   "cell_type": "code",
   "execution_count": 16,
   "id": "87285e7f",
   "metadata": {},
   "outputs": [
    {
     "name": "stdout",
     "output_type": "stream",
     "text": [
      "Labeled sequences shape:  (2598, 478, 20)\n"
     ]
    }
   ],
   "source": [
    "Xl = encoder.encode(sequences)\n",
    "\n",
    "print('Labeled sequences shape: ', Xl.shape)"
   ]
  },
  {
   "cell_type": "code",
   "execution_count": 17,
   "id": "fc24ae63",
   "metadata": {},
   "outputs": [
    {
     "name": "stdout",
     "output_type": "stream",
     "text": [
      "Unlabeled sequences shape:  (1000, 478, 20)\n"
     ]
    }
   ],
   "source": [
    "Xu = encoder.encode(unambiguous_homologs)\n",
    "\n",
    "print('Unlabeled sequences shape: ', Xu.shape)"
   ]
  },
  {
   "cell_type": "code",
   "execution_count": null,
   "id": "7cd29925",
   "metadata": {},
   "outputs": [],
   "source": []
  }
 ],
 "metadata": {
  "kernelspec": {
   "display_name": "Python 3 (ipykernel)",
   "language": "python",
   "name": "python3"
  },
  "language_info": {
   "codemirror_mode": {
    "name": "ipython",
    "version": 3
   },
   "file_extension": ".py",
   "mimetype": "text/x-python",
   "name": "python",
   "nbconvert_exporter": "python",
   "pygments_lexer": "ipython3",
   "version": "3.10.12"
  }
 },
 "nbformat": 4,
 "nbformat_minor": 5
}
