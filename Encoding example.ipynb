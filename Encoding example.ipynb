{
 "cells": [
  {
   "cell_type": "markdown",
   "id": "7d17e2c5",
   "metadata": {},
   "source": [
    "# Encoding example \n",
    "Examples for ohe-hot encoding and DCA encoding. Actual complete encoding process for all datasets (including Unirep and eUnirep encodings) is in `encoding.py` script. "
   ]
  },
  {
   "cell_type": "code",
   "execution_count": null,
   "id": "847ac27f",
   "metadata": {},
   "outputs": [],
   "source": [
    "from scripts.utils import read_variants, read_a2m, generate_unambiguous_homologs\n",
    "from Bio import SeqIO\n",
    "import numpy as np\n",
    "\n",
    "wt_fasta = '../Data/bg_strsq/bg_strsq.fasta'\n",
    "sequences_file = '../Data/bg_strsq/BG_STRSQ_Abate2015_encoded.csv'\n",
    "homologs_file = '../Data/bg_strsq/bg_strsq_jhmmer.a2m'\n",
    "params_file = '../Data/bg_strsq/bg_strsq_plmc.params'\n",
    "wt = np.array(SeqIO.read(open(wt_fasta), 'fasta'))"
   ]
  },
  {
   "cell_type": "code",
   "execution_count": null,
   "id": "b9845132",
   "metadata": {},
   "outputs": [],
   "source": [
    "#read sequences \n",
    "sequences, y, variants = read_variants(sequences_file, wt_fasta, start_pos=2)\n",
    "\n",
    "print('sequences shape: ', sequences.shape)\n",
    "print('y shape: ', y.shape)"
   ]
  },
  {
   "cell_type": "code",
   "execution_count": 30,
   "id": "743837a2",
   "metadata": {},
   "outputs": [
    {
     "name": "stdout",
     "output_type": "stream",
     "text": [
      "homologs shape:  (124487, 478)\n"
     ]
    }
   ],
   "source": [
    "#read homologs\n",
    "homologs = read_a2m(homologs_file)\n",
    "\n",
    "print('homologs shape: ', homologs.shape)"
   ]
  },
  {
   "cell_type": "code",
   "execution_count": 10,
   "id": "5b26e3ff",
   "metadata": {},
   "outputs": [
    {
     "name": "stdout",
     "output_type": "stream",
     "text": [
      "unambiguous homologs shape:  (2250, 478)\n"
     ]
    }
   ],
   "source": [
    "#convert homologs with ambiguous symbols like X to only amino sequences\n",
    "unambiguous_homologs = generate_unambiguous_homologs(homologs[:1000,:], n_processes=10, mode='random')\n",
    "print('unambiguous homologs shape: ', unambiguous_homologs.shape)"
   ]
  },
  {
   "cell_type": "markdown",
   "id": "1479abce",
   "metadata": {},
   "source": [
    "### One hot encoding"
   ]
  },
  {
   "cell_type": "code",
   "execution_count": 19,
   "id": "a6d2ae84",
   "metadata": {},
   "outputs": [],
   "source": [
    "from scripts.encoding import SequencesOneHotEncoder\n",
    "\n",
    "encoder = SequencesOneHotEncoder(wt, start_pos=2)"
   ]
  },
  {
   "cell_type": "code",
   "execution_count": 20,
   "id": "26bb51fd",
   "metadata": {},
   "outputs": [
    {
     "name": "stdout",
     "output_type": "stream",
     "text": [
      "Labeled sequences shape:  (2598, 478, 20)\n"
     ]
    }
   ],
   "source": [
    "Xl = encoder.encode(sequences)\n",
    "\n",
    "print('Labeled sequences shape: ', Xl.shape)"
   ]
  },
  {
   "cell_type": "code",
   "execution_count": 21,
   "id": "9f40da7e",
   "metadata": {},
   "outputs": [
    {
     "name": "stdout",
     "output_type": "stream",
     "text": [
      "Unlabeled sequences shape:  (134, 478, 20)\n"
     ]
    }
   ],
   "source": [
    "Xu = encoder.encode(unambiguous_homologs)\n",
    "\n",
    "print('Unlabeled sequences shape: ', Xu.shape)"
   ]
  },
  {
   "cell_type": "markdown",
   "id": "70bc7570",
   "metadata": {},
   "source": [
    "### DCA encoding"
   ]
  },
  {
   "cell_type": "code",
   "execution_count": 19,
   "id": "05c34bec",
   "metadata": {},
   "outputs": [
    {
     "name": "stderr",
     "output_type": "stream",
     "text": [
      "No GPU/TPU found, falling back to CPU. (Set TF_CPP_MIN_LOG_LEVEL=0 and rerun for more info.)\n"
     ]
    }
   ],
   "source": [
    "from scripts.encoding import SequencesDCAEncoder\n",
    "\n",
    "encoder = SequencesDCAEncoder(wt, 2, params_file)"
   ]
  },
  {
   "cell_type": "code",
   "execution_count": 23,
   "id": "cc1ff040",
   "metadata": {},
   "outputs": [
    {
     "name": "stdout",
     "output_type": "stream",
     "text": [
      "Labeled sequences shape:  (2598, 435)\n"
     ]
    },
    {
     "data": {
      "text/plain": [
       "(2598, 435)"
      ]
     },
     "execution_count": 23,
     "metadata": {},
     "output_type": "execute_result"
    }
   ],
   "source": [
    "Xl, y = encoder.encode_variants(sequences, y, variants)\n",
    "\n",
    "print('Labeled sequences shape: ', Xl.shape)"
   ]
  },
  {
   "cell_type": "code",
   "execution_count": 24,
   "id": "ce792c7e",
   "metadata": {},
   "outputs": [
    {
     "name": "stdout",
     "output_type": "stream",
     "text": [
      "y shape:  (2598,)\n"
     ]
    }
   ],
   "source": [
    "#The number of instances after encoding can be smaller. \n",
    "print('y shape: ', y.shape)"
   ]
  },
  {
   "cell_type": "code",
   "execution_count": 25,
   "id": "a1663d73",
   "metadata": {},
   "outputs": [
    {
     "name": "stdout",
     "output_type": "stream",
     "text": [
      "Unlabeled sequences shape:  (134, 435)\n"
     ]
    }
   ],
   "source": [
    "Xu = encoder.encode_homologs(unambiguous_homologs)\n",
    "\n",
    "print('Unlabeled sequences shape: ', Xu.shape)"
   ]
  },
  {
   "cell_type": "code",
   "execution_count": null,
   "id": "9c298360",
   "metadata": {},
   "outputs": [],
   "source": []
  }
 ],
 "metadata": {
  "kernelspec": {
   "display_name": "Python 3 (ipykernel)",
   "language": "python",
   "name": "python3"
  },
  "language_info": {
   "codemirror_mode": {
    "name": "ipython",
    "version": 3
   },
   "file_extension": ".py",
   "mimetype": "text/x-python",
   "name": "python",
   "nbconvert_exporter": "python",
   "pygments_lexer": "ipython3",
   "version": "3.10.12"
  }
 },
 "nbformat": 4,
 "nbformat_minor": 5
}
