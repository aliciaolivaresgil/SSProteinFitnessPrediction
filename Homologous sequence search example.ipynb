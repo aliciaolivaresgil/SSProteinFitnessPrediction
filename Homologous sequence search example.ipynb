{
 "cells": [
  {
   "cell_type": "markdown",
   "id": "51212d65",
   "metadata": {},
   "source": [
    "# Homologous sequences search example\n",
    "## Requirements: \n",
    "- Wild type sequence  in .fasta format. \n",
    "- Uniref100 database in .fasta format downloaded in your computer. \n",
    "- HMMER software installed in your environment: http://hmmer.org/download.html\n",
    "- PLMC software installed in your computer: https://github.com/debbiemarkslab/plmc"
   ]
  },
  {
   "cell_type": "code",
   "execution_count": 1,
   "id": "30628762",
   "metadata": {},
   "outputs": [
    {
     "data": {
      "text/plain": [
       "SeqRecord(seq=Seq('VPAAQQTAMAPDAALTFPEGFLWGSATASYQIEGAAAEDGRTPSIWDTYARTPG...PTA', SingleLetterAlphabet()), id='bg_strsq', name='bg_strsq', description=' bg_strsq | start: 2, end: 479, length: 478 | OFFSET: 2', dbxrefs=[])"
      ]
     },
     "execution_count": 1,
     "metadata": {},
     "output_type": "execute_result"
    }
   ],
   "source": [
    "#read wild type from fasta \n",
    "\n",
    "from Bio import SeqIO\n",
    "wt = SeqIO.read(open('raw_data/bg_strsq/bg_strsq.fasta'), 'fasta')\n",
    "wt"
   ]
  },
  {
   "cell_type": "code",
   "execution_count": null,
   "id": "6b4c0e59",
   "metadata": {},
   "outputs": [],
   "source": [
    "#Perform jackhmmer search to find homologous sequences for the wild type\n",
    "\n",
    "incT = len(wt)*0.5\n",
    "Uniref100_path = 'Uniref100.fasta' \n",
    "\n",
    "os.system(f'jackhmmer --incT {incT} --cpu 64 --nali -A raw_data/bg_strsq/bg_strsq_jhmmer.sto raw_data/bg_strsq/bg_strsq.fasta {Uniref100_path}')"
   ]
  },
  {
   "cell_type": "code",
   "execution_count": null,
   "id": "1ccdc0af",
   "metadata": {},
   "outputs": [],
   "source": [
    "#Convert .sto to .a2m\n",
    "from scripts.sto2a2m import convert_sto2a2m\n",
    "\n",
    "n_seqs, n_active_sites, n_sites = convert_sto2am('raw_data/bg_strsq/bg_strsq_jhmmer.sto', 0.3, 0.5)"
   ]
  },
  {
   "cell_type": "code",
   "execution_count": null,
   "id": "efa7ac5a",
   "metadata": {},
   "outputs": [],
   "source": [
    "#Call PLMC to infer DCA stasitstical model\n",
    "\n",
    "le = 0.2*(n_active_sites-1)\n",
    "plmc_path = '../../../plmc/bin/plmc'\n",
    "\n",
    "os.system(f'{plmc_path} -o raw_data/bg_strsq/bg_strsq_plmc.params -n 64 -le {le} -m 3500 -g -f bg_strsq raw_data/bg_strsq/bg_strsq_jhmmer.a2m')"
   ]
  }
 ],
 "metadata": {
  "kernelspec": {
   "display_name": "Python 3 (ipykernel)",
   "language": "python",
   "name": "python3"
  },
  "language_info": {
   "codemirror_mode": {
    "name": "ipython",
    "version": 3
   },
   "file_extension": ".py",
   "mimetype": "text/x-python",
   "name": "python",
   "nbconvert_exporter": "python",
   "pygments_lexer": "ipython3",
   "version": "3.10.12"
  }
 },
 "nbformat": 4,
 "nbformat_minor": 5
}
