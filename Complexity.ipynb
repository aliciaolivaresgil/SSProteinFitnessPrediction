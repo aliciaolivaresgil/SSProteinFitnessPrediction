{
 "cells": [
  {
   "cell_type": "markdown",
   "id": "eb589ee1",
   "metadata": {},
   "source": [
    "# Time and memory consumption\n",
    "\n",
    "In this notebook, time and memory consumption is calculated based on the number of labelled training instances available. We use the avGFP dataset to randomly select 100, 1000 and 10000 training instances. For each method (the best methods of each strategy) we calculate the training time and peak memory in each case.\n",
    "\n"
   ]
  },
  {
   "cell_type": "code",
   "execution_count": 1,
   "id": "2d59f548",
   "metadata": {},
   "outputs": [],
   "source": [
    "import pickle as pk\n",
    "import numpy as np\n",
    "import pandas as pd\n",
    "\n",
    "import os \n",
    "import time \n",
    "import tracemalloc\n",
    "\n",
    "import random\n",
    "\n",
    "from sklearn.model_selection import train_test_split"
   ]
  },
  {
   "cell_type": "markdown",
   "id": "9beac205",
   "metadata": {},
   "source": [
    "### DCA encoding"
   ]
  },
  {
   "cell_type": "code",
   "execution_count": 2,
   "id": "76144293",
   "metadata": {},
   "outputs": [
    {
     "name": "stdout",
     "output_type": "stream",
     "text": [
      "(30466, 210)\n",
      "(697, 210)\n"
     ]
    }
   ],
   "source": [
    "Xl_dcae = pk.load(open('datasets/avgfp_Xl_dcae.pk', 'rb'))\n",
    "print(Xl_dcae.shape)\n",
    "Xu_dcae = pk.load(open('datasets/avgfp_Xu_dcae.pk', 'rb'))\n",
    "print(Xu_dcae.shape)\n",
    "\n",
    "indexes = pk.load(open(f'datasets/avgfp_indexes.pk', 'rb'))\n",
    "wild_type = pk.load(open(f'datasets/avgfp_wt_dcae.pk', 'rb'))"
   ]
  },
  {
   "cell_type": "markdown",
   "id": "1299de21",
   "metadata": {},
   "source": [
    "### PAM250 encoding"
   ]
  },
  {
   "cell_type": "code",
   "execution_count": 3,
   "id": "64c08384",
   "metadata": {},
   "outputs": [
    {
     "name": "stdout",
     "output_type": "stream",
     "text": [
      "(30466, 4700)\n",
      "(697, 4700)\n"
     ]
    }
   ],
   "source": [
    "Xl_pam250 = pk.load(open('datasets/avgfp_Xl_pam250.pk', 'rb'))\n",
    "Xl_pam250 = Xl_pam250.reshape((Xl_pam250.shape[0], -1))[indexes]\n",
    "print(Xl_pam250.shape)\n",
    "Xu_pam250 = pk.load(open('datasets/avgfp_Xu_pam250.pk', 'rb'))\n",
    "Xu_pam250 = Xu_pam250.reshape((Xu_pam250.shape[0], -1))\n",
    "print(Xu_pam250.shape)"
   ]
  },
  {
   "cell_type": "markdown",
   "id": "c05f0cc6",
   "metadata": {},
   "source": [
    "### Unirep encoding"
   ]
  },
  {
   "cell_type": "code",
   "execution_count": 4,
   "id": "4dbb4458",
   "metadata": {},
   "outputs": [
    {
     "name": "stdout",
     "output_type": "stream",
     "text": [
      "(30466, 1900)\n"
     ]
    }
   ],
   "source": [
    "Xl_unirep = pk.load(open('datasets/avgfp_Xl_unirep.pk', 'rb'))\n",
    "Xl_unirep = Xl_unirep.reshape((Xl_unirep.shape[0], -1))[indexes]\n",
    "print(Xl_unirep.shape)"
   ]
  },
  {
   "cell_type": "markdown",
   "id": "e9428b69",
   "metadata": {},
   "source": [
    "### eUnirep encoding"
   ]
  },
  {
   "cell_type": "code",
   "execution_count": 5,
   "id": "e9ab9578",
   "metadata": {},
   "outputs": [
    {
     "name": "stdout",
     "output_type": "stream",
     "text": [
      "(30466, 1900)\n"
     ]
    }
   ],
   "source": [
    "Xl_eunirep = pk.load(open('datasets/avgfp_Xl_eunirep.pk', 'rb'))\n",
    "Xl_eunirep = Xl_eunirep.reshape((Xl_eunirep.shape[0], -1))[indexes]\n",
    "print(Xl_eunirep.shape)"
   ]
  },
  {
   "cell_type": "markdown",
   "id": "715e8b2d",
   "metadata": {},
   "source": [
    "### Target y"
   ]
  },
  {
   "cell_type": "code",
   "execution_count": 6,
   "id": "af8ece03",
   "metadata": {},
   "outputs": [
    {
     "data": {
      "text/plain": [
       "(30466,)"
      ]
     },
     "execution_count": 6,
     "metadata": {},
     "output_type": "execute_result"
    }
   ],
   "source": [
    "y = pk.load(open(f'datasets/avgfp_y_dcae.pk', 'rb'))\n",
    "y_cat = np.where(y >= np.percentile(y, 75), 1, 0)\n",
    "y.shape"
   ]
  },
  {
   "cell_type": "markdown",
   "id": "5f453e13",
   "metadata": {},
   "source": [
    "# Strategy 0: Unirep + Random Forest"
   ]
  },
  {
   "cell_type": "code",
   "execution_count": 7,
   "id": "ab001ef3",
   "metadata": {},
   "outputs": [
    {
     "name": "stdout",
     "output_type": "stream",
     "text": [
      "N: 100\n",
      "time: 4.1439597606658936\n",
      "mem: (124175, 915166)\n",
      "N: 1000\n",
      "time: 113.55108332633972\n",
      "mem: (59548, 7733214)\n",
      "N: 10000\n",
      "time: 2300.7957031726837\n",
      "mem: (57727, 76388462)\n"
     ]
    }
   ],
   "source": [
    "from sklearn.ensemble import RandomForestRegressor\n",
    "\n",
    "Xl = Xl_unirep\n",
    "estimator = RandomForestRegressor()\n",
    "\n",
    "for n in [100, 1000, 10000]: \n",
    "    \n",
    "    print(f'N: {n}')\n",
    "    test_size = 1-(n/len(y))\n",
    "    ind = [i for i in range(len(Xl))]\n",
    "    n_indexes, _, _, _ = train_test_split(ind, \n",
    "                                         y_cat, \n",
    "                                         test_size=test_size, \n",
    "                                         random_state=1234, \n",
    "                                         stratify=y_cat)\n",
    "    Xl_train = Xl[n_indexes]\n",
    "    y_train = y[n_indexes]\n",
    "    \n",
    "    t_start = time.time()\n",
    "    tracemalloc.start()\n",
    "    \n",
    "    estimator.fit(Xl_train, y_train)\n",
    "    \n",
    "    t_end = time.time()\n",
    "    print(f'time: {t_end-t_start}')\n",
    "    print(f'mem: {tracemalloc.get_traced_memory()}')\n",
    "    tracemalloc.stop()"
   ]
  },
  {
   "cell_type": "markdown",
   "id": "c6a84245",
   "metadata": {},
   "source": [
    "# Strategy 1: DCA + SVM"
   ]
  },
  {
   "cell_type": "code",
   "execution_count": 8,
   "id": "5d2b7d36",
   "metadata": {},
   "outputs": [
    {
     "name": "stdout",
     "output_type": "stream",
     "text": [
      "N: 100\n",
      "time: 0.00244903564453125\n",
      "mem: (165310, 240103)\n",
      "N: 1000\n",
      "time: 0.09348249435424805\n",
      "mem: (1354213, 1747030)\n",
      "N: 10000\n",
      "time: 12.046603679656982\n",
      "mem: (12783728, 16866998)\n"
     ]
    }
   ],
   "source": [
    "from sklearn.svm import SVR\n",
    "\n",
    "Xl = Xl_dcae\n",
    "estimator = SVR()\n",
    "\n",
    "for n in [100, 1000, 10000]: \n",
    "    \n",
    "    print(f'N: {n}')\n",
    "    test_size = 1-(n/len(y))\n",
    "    ind = [i for i in range(len(Xl))]\n",
    "    n_indexes, _, _, _ = train_test_split(ind, \n",
    "                                         y_cat, \n",
    "                                         test_size=test_size, \n",
    "                                         random_state=1234, \n",
    "                                         stratify=y_cat)\n",
    "    Xl_train = Xl[n_indexes]\n",
    "    y_train = y[n_indexes]\n",
    "    \n",
    "    t_start = time.time()\n",
    "    tracemalloc.start()\n",
    "    \n",
    "    estimator.fit(Xl_train, y_train)\n",
    "    \n",
    "    t_end = time.time()\n",
    "    print(f'time: {t_end-t_start}')\n",
    "    print(f'mem: {tracemalloc.get_traced_memory()}')\n",
    "    tracemalloc.stop()"
   ]
  },
  {
   "cell_type": "markdown",
   "id": "540dc2b0",
   "metadata": {},
   "source": [
    "# Strategy 2: DCA + MERGE[SVM]"
   ]
  },
  {
   "cell_type": "code",
   "execution_count": 9,
   "id": "e24df048",
   "metadata": {},
   "outputs": [
    {
     "name": "stdout",
     "output_type": "stream",
     "text": [
      "N: 100\n",
      "time: 0.7134420871734619\n",
      "mem: (290839, 305037)\n",
      "N: 1000\n",
      "time: 0.8090908527374268\n",
      "mem: (1400290, 1756136)\n",
      "N: 10000\n",
      "time: 29.692567586898804\n",
      "mem: (12958994, 16948136)\n"
     ]
    }
   ],
   "source": [
    "from models.MERGE_v2 import Merge\n",
    "from sklearn.svm import SVR\n",
    "\n",
    "Xl = Xl_dcae\n",
    "estimator = SVR()\n",
    "\n",
    "for n in [100, 1000, 10000]: \n",
    "    \n",
    "    print(f'N: {n}')\n",
    "    test_size = 1-(n/len(y))\n",
    "    ind = [i for i in range(len(Xl))]\n",
    "    n_indexes, _, _, _ = train_test_split(ind, \n",
    "                                         y_cat, \n",
    "                                         test_size=test_size, \n",
    "                                         random_state=1234, \n",
    "                                         stratify=y_cat)\n",
    "    Xl_train = Xl[n_indexes]\n",
    "    y_train = y[n_indexes]\n",
    "    \n",
    "    t_start = time.time()\n",
    "    tracemalloc.start()\n",
    "    \n",
    "    merge = Merge(wild_type=wild_type, base_regressor=SVR())\n",
    "    merge.fit(Xl_train, y_train)\n",
    "    \n",
    "    t_end = time.time()\n",
    "    print(f'time: {t_end-t_start}')\n",
    "    print(f'mem: {tracemalloc.get_traced_memory()}')\n",
    "    tracemalloc.stop()"
   ]
  },
  {
   "cell_type": "markdown",
   "id": "4c48884b",
   "metadata": {},
   "source": [
    "# Strategy 3: PAM250 + TriTR[RF]"
   ]
  },
  {
   "cell_type": "code",
   "execution_count": 12,
   "id": "0d029dcd",
   "metadata": {},
   "outputs": [
    {
     "name": "stdout",
     "output_type": "stream",
     "text": [
      "N: 100\n",
      "time: 10.523196458816528\n",
      "mem: (35849377, 93909205)\n",
      "N: 1000\n",
      "time: 385.058908700943\n",
      "mem: (363348, 159119623)\n",
      "N: 10000\n",
      "time: 20368.903308153152\n",
      "mem: (343946, 1344709988)\n"
     ]
    }
   ],
   "source": [
    "from models.TriTrainingRegressor import TriTrainingRegressor\n",
    "from sklearn.ensemble import RandomForestRegressor\n",
    "\n",
    "Xl = Xl_pam250\n",
    "estimator = RandomForestRegressor()\n",
    "\n",
    "for n in [100, 1000, 10000]: \n",
    "    \n",
    "    print(f'N: {n}')\n",
    "    test_size = 1-(n/len(y))\n",
    "    ind = [i for i in range(len(Xl))]\n",
    "    n_indexes, _, _, _ = train_test_split(ind, \n",
    "                                         y_cat, \n",
    "                                         test_size=test_size, \n",
    "                                         random_state=1234, \n",
    "                                         stratify=y_cat)\n",
    "    Xl_train = Xl[n_indexes]\n",
    "    y_train = y[n_indexes]\n",
    "    Xl_train_tritr = np.concatenate((Xl_train, Xu_pam250))\n",
    "    y_train_tritr = np.concatenate((y_train, np.full(Xu_pam250.shape[0], None)))\n",
    "    \n",
    "    t_start = time.time()\n",
    "    tracemalloc.start()\n",
    "    \n",
    "    tritr = TriTrainingRegressor(base_estimator=estimator)\n",
    "    tritr.fit(Xl_train_tritr, y_train_tritr)\n",
    "    \n",
    "    t_end = time.time()\n",
    "    print(f'time: {t_end-t_start}')\n",
    "    print(f'mem: {tracemalloc.get_traced_memory()}')\n",
    "    tracemalloc.stop()"
   ]
  },
  {
   "cell_type": "markdown",
   "id": "a90ab0d7",
   "metadata": {},
   "source": [
    "# Strategy 4: DCA + TriTr[SVM]"
   ]
  },
  {
   "cell_type": "code",
   "execution_count": 13,
   "id": "58617bab",
   "metadata": {},
   "outputs": [
    {
     "name": "stdout",
     "output_type": "stream",
     "text": [
      "N: 100\n",
      "time: 0.02988266944885254\n",
      "mem: (444128, 2032524)\n",
      "N: 1000\n",
      "time: 3.310210943222046\n",
      "mem: (4096276, 12064677)\n",
      "N: 10000\n",
      "time: 235.62896537780762\n",
      "mem: (38388233, 106986605)\n"
     ]
    }
   ],
   "source": [
    "from models.TriTrainingRegressor import TriTrainingRegressor\n",
    "from sklearn.svm import SVR\n",
    "\n",
    "Xl = Xl_dcae\n",
    "estimator = SVR()\n",
    "\n",
    "for n in [100, 1000, 10000]: \n",
    "    \n",
    "    print(f'N: {n}')\n",
    "    test_size = 1-(n/len(y))\n",
    "    ind = [i for i in range(len(Xl))]\n",
    "    n_indexes, _, _, _ = train_test_split(ind, \n",
    "                                         y_cat, \n",
    "                                         test_size=test_size, \n",
    "                                         random_state=1234, \n",
    "                                         stratify=y_cat)\n",
    "    Xl_train = Xl[n_indexes]\n",
    "    y_train = y[n_indexes]\n",
    "    Xl_train_tritr = np.concatenate((Xl_train, Xu_dcae))\n",
    "    y_train_tritr = np.concatenate((y_train, np.full(Xu_dcae.shape[0], None)))\n",
    "    \n",
    "    t_start = time.time()\n",
    "    tracemalloc.start()\n",
    "    \n",
    "    tritr = TriTrainingRegressor(base_estimator=estimator)\n",
    "    tritr.fit(Xl_train_tritr, y_train_tritr)\n",
    "    \n",
    "    t_end = time.time()\n",
    "    print(f'time: {t_end-t_start}')\n",
    "    print(f'mem: {tracemalloc.get_traced_memory()}')\n",
    "    tracemalloc.stop()"
   ]
  },
  {
   "cell_type": "code",
   "execution_count": null,
   "id": "aa08b155",
   "metadata": {},
   "outputs": [],
   "source": []
  }
 ],
 "metadata": {
  "kernelspec": {
   "display_name": "Python 3 (ipykernel)",
   "language": "python",
   "name": "python3"
  },
  "language_info": {
   "codemirror_mode": {
    "name": "ipython",
    "version": 3
   },
   "file_extension": ".py",
   "mimetype": "text/x-python",
   "name": "python",
   "nbconvert_exporter": "python",
   "pygments_lexer": "ipython3",
   "version": "3.10.4"
  }
 },
 "nbformat": 4,
 "nbformat_minor": 5
}
